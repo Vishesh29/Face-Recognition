{
 "cells": [
  {
   "cell_type": "code",
   "execution_count": null,
   "metadata": {},
   "outputs": [],
   "source": [
    "import os\n",
    "import numpy as np\n",
    "\n",
    "data_path='train_data_2'\n",
    "labels=os.listdir(data_path)\n",
    "\n",
    "#Creating labels for each image\n",
    "val=np.arange(len(labels))\n",
    "categories=dict(zip(labels,val))\n",
    "print(labels)\n",
    "print(categories)"
   ]
  },
  {
   "cell_type": "code",
   "execution_count": null,
   "metadata": {},
   "outputs": [],
   "source": [
    "import cv2\n",
    "\n",
    "face_classifier=cv2.CascadeClassifier('haarcascade_frontalface_default.xml')\n",
    "\n",
    "data=[]\n",
    "target=[]\n",
    "\n",
    "for label in labels:\n",
    "    \n",
    "    imgs_path=os.path.join(data_path,label)\n",
    "    img_names=os.listdir(imgs_path)\n",
    "    \n",
    "    for img_name in img_names:\n",
    "        \n",
    "        img_path=os.path.join(imgs_path,img_name)\n",
    "        img=cv2.imread(img_path)\n",
    "    \n",
    "        gray=cv2.cvtColor(img,cv2.COLOR_BGR2GRAY)\n",
    "        faces=face_classifier.detectMultiScale(gray)\n",
    "        \n",
    "        try:\n",
    "        \n",
    "            for (x,y,w,h) in faces:\n",
    "\n",
    "                cropped_face=gray[y:y+h,x:x+w]\n",
    "                cv2.imshow('cropped_face',cropped_face)\n",
    "\n",
    "                k=cv2.waitKey(100)\n",
    "\n",
    "                if(k==121):           #ascii value of 'y'\n",
    "                    cropped_face=cv2.resize(cropped_face,(50,50))\n",
    "                    data.append(cropped_face)\n",
    "                    target.append(category_dict[label])\n",
    "\n",
    "                else:\n",
    "\n",
    "                    pass       \n",
    "        except:\n",
    "           \n",
    "            pass\n",
    "cv2.destroyAllWindows()\n",
    "\n",
    "#cv2.imshow('WINDOW',img)\n",
    "#key=cv2.waitKey(100)\n",
    "#if(key==27):           #ascii value of esc\n",
    "    #    break\n",
    "\n",
    "#cv2.destroyAllWindows()\n",
    "        \n"
   ]
  },
  {
   "cell_type": "code",
   "execution_count": null,
   "metadata": {},
   "outputs": [],
   "source": [
    "data=np.array(data)\n",
    "target=np.array(target)\n",
    "\n",
    "noImages,height,width=data.shape\n",
    "data=data.reshape(noImages,height*width)               #flattening the images\n",
    "\n",
    "np.save('data',data)\n",
    "np.save('target',target)"
   ]
  }
 ],
 "metadata": {
  "kernelspec": {
   "display_name": "Python 3",
   "language": "python",
   "name": "python3"
  },
  "language_info": {
   "codemirror_mode": {
    "name": "ipython",
    "version": 3
   },
   "file_extension": ".py",
   "mimetype": "text/x-python",
   "name": "python",
   "nbconvert_exporter": "python",
   "pygments_lexer": "ipython3",
   "version": "3.8.3"
  }
 },
 "nbformat": 4,
 "nbformat_minor": 4
}
