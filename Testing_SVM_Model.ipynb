{
 "cells": [
  {
   "cell_type": "code",
   "execution_count": 1,
   "metadata": {},
   "outputs": [],
   "source": [
    "import joblib"
   ]
  },
  {
   "cell_type": "code",
   "execution_count": 2,
   "metadata": {},
   "outputs": [],
   "source": [
    "model=joblib.load('SVM-Face Recognition.sav')"
   ]
  },
  {
   "cell_type": "code",
   "execution_count": 3,
   "metadata": {},
   "outputs": [],
   "source": [
    "category={0:'Barack Obama', 1:'Donald Trump', 2:'George W Bush'}"
   ]
  },
  {
   "cell_type": "code",
   "execution_count": null,
   "metadata": {},
   "outputs": [],
   "source": [
    "import os\n",
    "import cv2\n",
    "\n",
    "test_data_path='test_data'\n",
    "test_img_names=os.listdir(test_data_path)\n",
    "\n",
    "face_classifier=cv2.CascadeClassifier('haarcascade_frontalface_default.xml')"
   ]
  },
  {
   "cell_type": "code",
   "execution_count": null,
   "metadata": {},
   "outputs": [],
   "source": [
    "for test_img in test_img_names:\n",
    "    img_path=os.path.join(test_data_path,test_img)\n",
    "    test_img=cv2.imread(img_path)\n",
    "    img_gray=cv2.cvtColor(test_img,cv2.COLOR_BGR2GRAY)\n",
    "    faces=face_classifier.detectMultiScale(img_gray)\n",
    "    \n",
    "    for (x,y,w,h) in faces:\n",
    "            cropped_face=img_gray[y:y+h,x:x+w]\n",
    "            cropped_face=cv2.resize(cropped_face,(50,50))\n",
    "            cropped_face=cropped_face.reshape(1,2500)\n",
    "            result=model.predict(cropped_face)[0]\n",
    "            label=category[result]\n",
    "            \n",
    "            cv2.rectangle(test_img,(x,y),(x+w,y+h),(0,255,0),2)              # img , box dimensions(corners),color,thickness of box\n",
    "            cv2.putText(test_img,label,(x,y-10),cv2.FONT_HERSHEY_SIMPLEX,1.5,(255,0,0),2)               #put text above 10pix of img\n",
    "            \n",
    "    cv2.imshow('Window',test_img)\n",
    "    k=cv2.waitKey(1000)\n",
    "    if k==27:\n",
    "        break\n",
    "cv2.destroyAllWindows()\n",
    "\n"
   ]
  },
  {
   "cell_type": "code",
   "execution_count": null,
   "metadata": {},
   "outputs": [],
   "source": [
    "capture=cv2.VideoCapture(0)   \n",
    "#0----->default web cam\n",
    "#1----->usb cam\n",
    "#video--->'myvideo.mp4'\n",
    "#wifi camera  -->'123.435.212.443'(ip)\n",
    "\n",
    "\n",
    "for test_img in test_img_names:\n",
    "    #img_path=os.path.join(test_data_path,test_img)\n",
    "    #test_img=cv2.imread(img_path)\n",
    "    ret,test_img=capture.read()\n",
    "    img_gray=cv2.cvtColor(test_img,cv2.COLOR_BGR2GRAY)\n",
    "    faces=face_classifier.detectMultiScale(img_gray)\n",
    "    \n",
    "    for (x,y,w,h) in faces:\n",
    "            cropped_face=img_gray[y:y+h,x:x+w]\n",
    "            cropped_face=cv2.resize(cropped_face,(50,50))\n",
    "            cropped_face=cropped_face.reshape(1,2500)\n",
    "            result=model.predict(cropped_face)[0]\n",
    "            label=category[result]\n",
    "            \n",
    "            cv2.rectangle(test_img,(x,y),(x+w,y+h),(0,255,0),2)              # img , box dimensions(corners),color,thickness of box\n",
    "            cv2.putText(test_img,label,(x,y-10),cv2.FONT_HERSHEY_SIMPLEX,1.5,(255,0,0),2)               #put text above 10pix of img\n",
    "            \n",
    "    cv2.imshow('Window',test_img)\n",
    "    k=cv2.waitKey(100)\n",
    "    if k==27:\n",
    "        break\n",
    "cv2.destroyAllWindows()"
   ]
  },
  {
   "cell_type": "code",
   "execution_count": null,
   "metadata": {},
   "outputs": [],
   "source": []
  },
  {
   "cell_type": "code",
   "execution_count": null,
   "metadata": {},
   "outputs": [],
   "source": []
  }
 ],
 "metadata": {
  "kernelspec": {
   "display_name": "Python 3",
   "language": "python",
   "name": "python3"
  },
  "language_info": {
   "codemirror_mode": {
    "name": "ipython",
    "version": 3
   },
   "file_extension": ".py",
   "mimetype": "text/x-python",
   "name": "python",
   "nbconvert_exporter": "python",
   "pygments_lexer": "ipython3",
   "version": "3.8.3"
  }
 },
 "nbformat": 4,
 "nbformat_minor": 4
}
